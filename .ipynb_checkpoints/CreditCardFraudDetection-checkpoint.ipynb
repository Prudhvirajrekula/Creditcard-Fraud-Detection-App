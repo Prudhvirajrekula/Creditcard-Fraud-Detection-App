{
 "cells": [
  {
   "cell_type": "markdown",
   "id": "3bf3b244",
   "metadata": {},
   "source": [
    "# 🛡️ Credit Card Fraud Detection\n",
    "This notebook analyzes 284,807 credit card transactions to identify fraudulent activity using EDA, feature engineering, balancing, and machine learning models."
   ]
  },
  {
   "cell_type": "code",
   "execution_count": null,
   "id": "d088fbd2",
   "metadata": {},
   "outputs": [],
   "source": [
    "import pandas as pd\n",
    "import numpy as np\n",
    "import seaborn as sns\n",
    "import matplotlib.pyplot as plt\n",
    "from sklearn.model_selection import train_test_split\n",
    "from sklearn.preprocessing import StandardScaler\n",
    "from sklearn.ensemble import RandomForestClassifier\n",
    "from sklearn.metrics import classification_report, confusion_matrix, roc_auc_score\n",
    "from imblearn.over_sampling import SMOTE\n",
    "import warnings\n",
    "warnings.filterwarnings('ignore')"
   ]
  },
  {
   "cell_type": "code",
   "execution_count": null,
   "id": "7796b68f",
   "metadata": {},
   "outputs": [],
   "source": [
    "df = pd.read_csv('creditcard.csv')\n",
    "df.head()"
   ]
  },
  {
   "cell_type": "code",
   "execution_count": null,
   "id": "023a2684",
   "metadata": {},
   "outputs": [],
   "source": [
    "# Class balance\n",
    "sns.countplot(x='Class', data=df)\n",
    "plt.title('Class Distribution');"
   ]
  },
  {
   "cell_type": "code",
   "execution_count": null,
   "id": "2ea14a38",
   "metadata": {},
   "outputs": [],
   "source": [
    "# Feature Engineering: Time of Day & Amount Bin\n",
    "df['Hour'] = df['Time'].apply(lambda x: np.floor(x / 3600) % 24)\n",
    "df['AmountBin'] = pd.qcut(df['Amount'], q=4, labels=['Low', 'Mid-Low', 'Mid-High', 'High'])\n",
    "df[['Hour', 'AmountBin']].head()"
   ]
  },
  {
   "cell_type": "code",
   "execution_count": null,
   "id": "fb59d8c3",
   "metadata": {},
   "outputs": [],
   "source": [
    "# Correlation heatmap\n",
    "plt.figure(figsize=(12, 6))\n",
    "sns.heatmap(df.corr(), cmap='coolwarm', center=0)\n",
    "plt.title('Correlation Heatmap');"
   ]
  },
  {
   "cell_type": "code",
   "execution_count": null,
   "id": "7283be25",
   "metadata": {},
   "outputs": [],
   "source": [
    "# Data prep for model\n",
    "X = df.drop(['Class', 'Time'], axis=1)\n",
    "y = df['Class']\n",
    "scaler = StandardScaler()\n",
    "X_scaled = scaler.fit_transform(X)\n",
    "smote = SMOTE(random_state=42)\n",
    "X_res, y_res = smote.fit_resample(X_scaled, y)\n",
    "X_train, X_test, y_train, y_test = train_test_split(X_res, y_res, test_size=0.3, random_state=42)"
   ]
  },
  {
   "cell_type": "code",
   "execution_count": null,
   "id": "ec713b54",
   "metadata": {},
   "outputs": [],
   "source": [
    "# Random Forest model\n",
    "rf = RandomForestClassifier(n_estimators=100, random_state=42)\n",
    "rf.fit(X_train, y_train)\n",
    "y_pred = rf.predict(X_test)\n",
    "print(confusion_matrix(y_test, y_pred))\n",
    "print(classification_report(y_test, y_pred))\n",
    "print(\"ROC-AUC Score:\", roc_auc_score(y_test, y_pred))"
   ]
  }
 ],
 "metadata": {},
 "nbformat": 4,
 "nbformat_minor": 5
}
