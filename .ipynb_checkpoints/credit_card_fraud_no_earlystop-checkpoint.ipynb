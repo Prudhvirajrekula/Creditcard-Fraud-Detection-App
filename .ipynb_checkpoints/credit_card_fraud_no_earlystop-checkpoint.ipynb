{
 "cells": [
  {
   "cell_type": "markdown",
   "id": "cd3247f2",
   "metadata": {},
   "source": [
    "# Credit Card Fraud Detection – Updated Notebook\n",
    "This notebook updates the XGBoost training to remove unsupported early stopping parameters."
   ]
  },
  {
   "cell_type": "code",
   "execution_count": null,
   "id": "5b6dfebf",
   "metadata": {},
   "outputs": [],
   "source": [
    "# Optional: install or upgrade XGBoost if desired\n",
    "# !pip install --upgrade xgboost --quiet"
   ]
  },
  {
   "cell_type": "code",
   "execution_count": null,
   "id": "b382d424",
   "metadata": {},
   "outputs": [],
   "source": [
    "import pandas as pd\n",
    "import numpy as np\n",
    "from sklearn.preprocessing import StandardScaler\n",
    "from sklearn.model_selection import train_test_split\n",
    "from imblearn.over_sampling import SMOTE\n",
    "from sklearn.linear_model import LogisticRegression\n",
    "from sklearn.tree import DecisionTreeClassifier\n",
    "from sklearn.ensemble import RandomForestClassifier, HistGradientBoostingClassifier\n",
    "from xgboost import XGBClassifier\n",
    "from sklearn.metrics import classification_report, roc_auc_score\n",
    "print('Imports successful')"
   ]
  },
  {
   "cell_type": "code",
   "execution_count": null,
   "id": "274db22c",
   "metadata": {},
   "outputs": [],
   "source": [
    "df = pd.read_csv('creditcard.csv')\n",
    "print(f\"Initial shape: {df.shape}\")\n",
    "print(df['Class'].value_counts(normalize=True))"
   ]
  },
  {
   "cell_type": "code",
   "execution_count": null,
   "id": "1f2c8ac0",
   "metadata": {},
   "outputs": [],
   "source": [
    "# Preprocessing: scale 'Amount', drop 'Time'\n",
    "assert df.isnull().sum().sum() == 0, \"Missing values detected!\"\n",
    "scaler = StandardScaler()\n",
    "df['Amount'] = scaler.fit_transform(df[['Amount']])\n",
    "df.drop(columns=['Time'], inplace=True)\n",
    "print('Preprocessing complete')"
   ]
  },
  {
   "cell_type": "code",
   "execution_count": null,
   "id": "16c75121",
   "metadata": {},
   "outputs": [],
   "source": [
    "X = df.drop(columns=['Class'])\n",
    "y = df['Class']\n",
    "X_train, X_test, y_train, y_test = train_test_split(\n",
    "    X, y, test_size=0.2, stratify=y, random_state=42\n",
    ")\n",
    "print(f\"Train: {X_train.shape}, Test: {X_test.shape}\")"
   ]
  },
  {
   "cell_type": "code",
   "execution_count": null,
   "id": "4982f33f",
   "metadata": {},
   "outputs": [],
   "source": [
    "# Handle class imbalance with SMOTE\n",
    "smote = SMOTE(random_state=42)\n",
    "X_train_res, y_train_res = smote.fit_resample(X_train, y_train)\n",
    "print(f\"Resampled train: {X_train_res.shape}\")"
   ]
  },
  {
   "cell_type": "code",
   "execution_count": null,
   "id": "4232789d",
   "metadata": {},
   "outputs": [],
   "source": [
    "models = {\n",
    "    'Logistic Regression': LogisticRegression(\n",
    "        class_weight='balanced', max_iter=500, n_jobs=-1, random_state=42\n",
    "    ),\n",
    "    'Decision Tree': DecisionTreeClassifier(\n",
    "        class_weight='balanced', random_state=42\n",
    "    ),\n",
    "    'Random Forest': RandomForestClassifier(\n",
    "        n_estimators=50, class_weight='balanced', n_jobs=-1, random_state=42\n",
    "    ),\n",
    "    'XGBoost': XGBClassifier(\n",
    "        n_estimators=100,\n",
    "        scale_pos_weight=(len(y_train) - sum(y_train)) / sum(y_train),\n",
    "        n_jobs=-1,\n",
    "        use_label_encoder=False,\n",
    "        eval_metric='auc',\n",
    "        random_state=42\n",
    "    ),\n",
    "    'HistGradientBoosting': HistGradientBoostingClassifier(\n",
    "        max_iter=100,\n",
    "        early_stopping=True,\n",
    "        random_state=42\n",
    "    )\n",
    "}"
   ]
  },
  {
   "cell_type": "code",
   "execution_count": null,
   "id": "54735e55",
   "metadata": {},
   "outputs": [],
   "source": [
    "results = {}\n",
    "for name, model in models.items():\n",
    "    print(f\"\\n=== Training {name} ===\")\n",
    "    # uniform fit call\n",
    "    model.fit(X_train_res, y_train_res)\n",
    "    preds = model.predict(X_test)\n",
    "    proba = model.predict_proba(X_test)[:, 1]\n",
    "    report = classification_report(y_test, preds, output_dict=True)\n",
    "    auc = roc_auc_score(y_test, proba)\n",
    "    results[name] = {\n",
    "        'precision_fraud': report['1']['precision'],\n",
    "        'recall_fraud': report['1']['recall'],\n",
    "        'f1_fraud': report['1']['f1-score'],\n",
    "        'roc_auc': auc\n",
    "    }\n",
    "    print(f\"{name} ROC AUC: {auc:.4f}\")\n",
    "    print(f\" Fraud Precision: {report['1']['precision']:.3f}, Recall: {report['1']['recall']:.3f}, F1: {report['1']['f1-score']:.3f}\")"
   ]
  },
  {
   "cell_type": "code",
   "execution_count": null,
   "id": "1d53c844",
   "metadata": {},
   "outputs": [],
   "source": [
    "import pandas as pd\n",
    "summary_df = pd.DataFrame(results).T\n",
    "print(\"\\n=== Summary of all models ===\")\n",
    "print(summary_df.sort_values('roc_auc', ascending=False))"
   ]
  }
 ],
 "metadata": {},
 "nbformat": 4,
 "nbformat_minor": 5
}
