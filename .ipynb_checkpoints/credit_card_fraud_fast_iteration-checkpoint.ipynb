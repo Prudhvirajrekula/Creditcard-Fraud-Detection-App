{
 "cells": [
  {
   "cell_type": "markdown",
   "id": "dc54527c",
   "metadata": {},
   "source": [
    "# Credit Card Fraud Detection – Fast Iteration Script\n",
    "This notebook implements a streamlined workflow for detecting credit card fraud, optimized for quick training iterations."
   ]
  },
  {
   "cell_type": "code",
   "execution_count": null,
   "id": "bba86d12",
   "metadata": {},
   "outputs": [],
   "source": [
    "# Optional: install XGBoost if not already installed\n",
    "# !pip install xgboost --quiet"
   ]
  },
  {
   "cell_type": "code",
   "execution_count": null,
   "id": "797fed16",
   "metadata": {},
   "outputs": [],
   "source": [
    "import pandas as pd\n",
    "import numpy as np\n",
    "from sklearn.preprocessing import StandardScaler\n",
    "from sklearn.model_selection import train_test_split\n",
    "from imblearn.over_sampling import SMOTE\n",
    "from sklearn.linear_model import LogisticRegression\n",
    "from sklearn.tree import DecisionTreeClassifier\n",
    "from sklearn.ensemble import RandomForestClassifier, HistGradientBoostingClassifier\n",
    "from xgboost import XGBClassifier\n",
    "from sklearn.metrics import classification_report, roc_auc_score\n",
    "print('Imports successful')"
   ]
  },
  {
   "cell_type": "code",
   "execution_count": null,
   "id": "44f010ea",
   "metadata": {},
   "outputs": [],
   "source": [
    "df = pd.read_csv('creditcard.csv')\n",
    "print(f\"Initial shape: {df.shape}\")\n",
    "print(df['Class'].value_counts(normalize=True))"
   ]
  },
  {
   "cell_type": "code",
   "execution_count": null,
   "id": "5f3ecf23",
   "metadata": {},
   "outputs": [],
   "source": [
    "# Preprocessing: scale 'Amount', drop 'Time'\n",
    "assert df.isnull().sum().sum() == 0, \"Missing values detected!\"\n",
    "scaler = StandardScaler()\n",
    "df['Amount'] = scaler.fit_transform(df[['Amount']])\n",
    "df.drop(columns=['Time'], inplace=True)\n",
    "print('Preprocessing complete')"
   ]
  },
  {
   "cell_type": "code",
   "execution_count": null,
   "id": "fbf5b0c6",
   "metadata": {},
   "outputs": [],
   "source": [
    "X = df.drop(columns=['Class'])\n",
    "y = df['Class']\n",
    "X_train, X_test, y_train, y_test = train_test_split(\n",
    "    X, y, test_size=0.2, stratify=y, random_state=42\n",
    ")\n",
    "print(f\"Train: {X_train.shape}, Test: {X_test.shape}\")"
   ]
  },
  {
   "cell_type": "code",
   "execution_count": null,
   "id": "7a75c323",
   "metadata": {},
   "outputs": [],
   "source": [
    "# Handle class imbalance with SMOTE\n",
    "smote = SMOTE(random_state=42)\n",
    "X_train_res, y_train_res = smote.fit_resample(X_train, y_train)\n",
    "print(f\"Resampled train: {X_train_res.shape}\")"
   ]
  },
  {
   "cell_type": "code",
   "execution_count": null,
   "id": "fbd67f68",
   "metadata": {},
   "outputs": [],
   "source": [
    "models = {\n",
    "    'Logistic Regression': LogisticRegression(\n",
    "        class_weight='balanced', max_iter=500, n_jobs=-1, random_state=42\n",
    "    ),\n",
    "    'Decision Tree': DecisionTreeClassifier(\n",
    "        class_weight='balanced', random_state=42\n",
    "    ),\n",
    "    'Random Forest': RandomForestClassifier(\n",
    "        n_estimators=50, class_weight='balanced', n_jobs=-1, random_state=42\n",
    "    ),\n",
    "    'XGBoost': XGBClassifier(\n",
    "        n_estimators=100,\n",
    "        scale_pos_weight=(len(y_train) - sum(y_train)) / sum(y_train),\n",
    "        n_jobs=-1,\n",
    "        use_label_encoder=False,\n",
    "        eval_metric='auc',\n",
    "        random_state=42\n",
    "    ),\n",
    "    'HistGradientBoosting': HistGradientBoostingClassifier(\n",
    "        max_iter=100,\n",
    "        early_stopping=True,\n",
    "        random_state=42\n",
    "    )\n",
    "}"
   ]
  },
  {
   "cell_type": "code",
   "execution_count": null,
   "id": "575e5192",
   "metadata": {},
   "outputs": [],
   "source": [
    "results = {}\n",
    "for name, model in models.items():\n",
    "    print(f\"\\n=== Training {name} ===\")\n",
    "    if name == 'XGBoost':\n",
    "        model.fit(\n",
    "            X_train_res, y_train_res,\n",
    "            eval_set=[(X_test, y_test)],\n",
    "            early_stopping_rounds=20,\n",
    "            verbose=20\n",
    "        )\n",
    "    else:\n",
    "        model.fit(X_train_res, y_train_res)\n",
    "    preds = model.predict(X_test)\n",
    "    proba = model.predict_proba(X_test)[:, 1]\n",
    "    report = classification_report(y_test, preds, output_dict=True)\n",
    "    auc = roc_auc_score(y_test, proba)\n",
    "    results[name] = {\n",
    "        'precision_fraud': report['1']['precision'],\n",
    "        'recall_fraud': report['1']['recall'],\n",
    "        'f1_fraud': report['1']['f1-score'],\n",
    "        'roc_auc': auc\n",
    "    }\n",
    "    print(f\"{name} ROC AUC: {auc:.4f}\")\n",
    "    print(f\" Fraud Precision: {report['1']['precision']:.3f}, Recall: {report['1']['recall']:.3f}, F1: {report['1']['f1-score']:.3f}\")"
   ]
  },
  {
   "cell_type": "code",
   "execution_count": null,
   "id": "51d7403c",
   "metadata": {},
   "outputs": [],
   "source": [
    "import pandas as pd\n",
    "summary_df = pd.DataFrame(results).T\n",
    "print(\"\\n=== Summary of all models ===\")\n",
    "print(summary_df.sort_values('roc_auc', ascending=False))"
   ]
  }
 ],
 "metadata": {},
 "nbformat": 4,
 "nbformat_minor": 5
}
