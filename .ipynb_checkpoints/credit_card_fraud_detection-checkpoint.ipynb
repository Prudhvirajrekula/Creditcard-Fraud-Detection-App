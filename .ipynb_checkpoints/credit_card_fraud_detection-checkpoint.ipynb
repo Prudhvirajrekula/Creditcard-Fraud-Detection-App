{
 "cells": [
  {
   "cell_type": "markdown",
   "id": "dfbf287b",
   "metadata": {},
   "source": [
    "# Credit Card Fraud Detection Project\n",
    "\n",
    "This notebook covers a complete workflow for detecting credit card fraud using the Kaggle dataset. Key phases include data loading, cleaning, preprocessing, handling class imbalance, model training and evaluation, and optional deployment.\n",
    "\n",
    "You'll need to download `creditcard.csv` from Kaggle and place it in the same directory as this notebook."
   ]
  },
  {
   "cell_type": "code",
   "execution_count": null,
   "id": "344e926b",
   "metadata": {},
   "outputs": [],
   "source": [
    "import pandas as pd\n",
    "import numpy as np\n",
    "from sklearn.preprocessing import StandardScaler\n",
    "from sklearn.model_selection import train_test_split, GridSearchCV\n",
    "from sklearn.linear_model import LogisticRegression\n",
    "from sklearn.tree import DecisionTreeClassifier\n",
    "from sklearn.ensemble import RandomForestClassifier\n",
    "from xgboost import XGBClassifier\n",
    "from imblearn.over_sampling import SMOTE\n",
    "from sklearn.metrics import classification_report, roc_auc_score\n",
    "\n",
    "print('Libraries imported successfully.')"
   ]
  },
  {
   "cell_type": "code",
   "execution_count": null,
   "id": "d9f78718",
   "metadata": {},
   "outputs": [],
   "source": [
    "df = pd.read_csv('creditcard.csv')\n",
    "print('Shape:', df.shape)\n",
    "display(df.head())\n",
    "print(df.info())\n",
    "print(df.describe())"
   ]
  },
  {
   "cell_type": "code",
   "execution_count": null,
   "id": "f63d1736",
   "metadata": {},
   "outputs": [],
   "source": [
    "# Check for missing values\n",
    "print(df.isnull().sum())\n",
    "\n",
    "# Scale 'Amount'\n",
    "scaler = StandardScaler()\n",
    "df['Amount'] = scaler.fit_transform(df[['Amount']])\n",
    "\n",
    "# Drop 'Time'\n",
    "df.drop(columns=['Time'], inplace=True)\n",
    "print('Preprocessing complete.')"
   ]
  },
  {
   "cell_type": "code",
   "execution_count": null,
   "id": "dbee2f8f",
   "metadata": {},
   "outputs": [],
   "source": [
    "# Split into features and target\n",
    "X = df.drop('Class', axis=1)\n",
    "y = df['Class']\n",
    "\n",
    "# Stratified split\n",
    "X_train, X_test, y_train, y_test = train_test_split(\n",
    "    X, y, test_size=0.2, random_state=42, stratify=y\n",
    ")\n",
    "print('Training set:', X_train.shape, 'Test set:', X_test.shape)"
   ]
  },
  {
   "cell_type": "code",
   "execution_count": null,
   "id": "b6476088",
   "metadata": {},
   "outputs": [],
   "source": [
    "# Apply SMOTE to training data\n",
    "smote = SMOTE(random_state=42)\n",
    "X_train_res, y_train_res = smote.fit_resample(X_train, y_train)\n",
    "print('Resampled training set:', X_train_res.shape)"
   ]
  },
  {
   "cell_type": "code",
   "execution_count": null,
   "id": "06112cb4",
   "metadata": {},
   "outputs": [],
   "source": [
    "models = {\n",
    "    'Logistic Regression': LogisticRegression(class_weight='balanced', max_iter=1000),\n",
    "    'Decision Tree': DecisionTreeClassifier(class_weight='balanced'),\n",
    "    'Random Forest': RandomForestClassifier(class_weight='balanced', n_estimators=100),\n",
    "    'XGBoost': XGBClassifier(scale_pos_weight=(len(y_train) - sum(y_train)) / sum(y_train))\n",
    "}\n",
    "\n",
    "results = {}\n",
    "for name, model in models.items():\n",
    "    model.fit(X_train_res, y_train_res)\n",
    "    preds = model.predict(X_test)\n",
    "    report = classification_report(y_test, preds, output_dict=True)\n",
    "    auc = roc_auc_score(y_test, model.predict_proba(X_test)[:, 1])\n",
    "    results[name] = {'report': report, 'roc_auc': auc}\n",
    "    print(f\"{name} - ROC AUC: {auc:.4f}\")\n"
   ]
  },
  {
   "cell_type": "markdown",
   "id": "b8284359",
   "metadata": {},
   "source": [
    "## Model Performance Summary\n",
    "The table below summarizes precision, recall, F1-score, and ROC AUC for each model. Look for a balance of high precision and recall.\n"
   ]
  },
  {
   "cell_type": "markdown",
   "id": "b038f912",
   "metadata": {},
   "source": [
    "## Optional Deployment\n",
    "You can deploy this model via Streamlit or Flask:\n",
    "```bash\n",
    "streamlit run app.py\n",
    "```\n",
    "or\n",
    "```bash\n",
    "python app.py\n",
    "```"
   ]
  }
 ],
 "metadata": {},
 "nbformat": 4,
 "nbformat_minor": 5
}
